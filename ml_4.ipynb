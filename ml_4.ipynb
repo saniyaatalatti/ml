{
  "nbformat": 4,
  "nbformat_minor": 0,
  "metadata": {
    "colab": {
      "provenance": []
    },
    "kernelspec": {
      "name": "python3",
      "display_name": "Python 3"
    },
    "language_info": {
      "name": "python"
    }
  },
  "cells": [
    {
      "cell_type": "code",
      "execution_count": null,
      "metadata": {
        "id": "GeocFFZMMI6y"
      },
      "outputs": [],
      "source": [
        "import numpy as np"
      ]
    },
    {
      "cell_type": "code",
      "source": [
        "def func(x):\n",
        "  return (x+3)**2\n",
        "def derivative(x):\n",
        "  return 2*(x+3)"
      ],
      "metadata": {
        "id": "SMzYIj8DhWIt"
      },
      "execution_count": null,
      "outputs": []
    },
    {
      "cell_type": "code",
      "source": [
        "gd = []\n",
        "def gradient_descent(start, learnrate, iterations):\n",
        "  x = start\n",
        "  gd.append(start)\n",
        "  for i in range(iterations):\n",
        "    grad = derivative(x)\n",
        "    x = x - learnrate*grad\n",
        "    gd.append(x)\n",
        "    print(f\"Iteration {i+1}: x = {x}, f(x) = {func(x)}\")\n",
        "  return x"
      ],
      "metadata": {
        "id": "dXL9IfFehgQr"
      },
      "execution_count": null,
      "outputs": []
    },
    {
      "cell_type": "code",
      "source": [
        "start = 2\n",
        "learnrate = 0.1\n",
        "iterations = 100\n",
        "ans = gradient_descent(start, learnrate, iterations)\n",
        "print(f\"local minima occurs at x = {ans}\")"
      ],
      "metadata": {
        "colab": {
          "base_uri": "https://localhost:8080/"
        },
        "id": "HsIbDV9QiZkp",
        "outputId": "2c65e539-d20b-4c70-d10d-dbee9e4f9366"
      },
      "execution_count": null,
      "outputs": [
        {
          "output_type": "stream",
          "name": "stdout",
          "text": [
            "Iteration 1: x = 1.0, f(x) = 16.0\n",
            "Iteration 2: x = 0.19999999999999996, f(x) = 10.240000000000002\n",
            "Iteration 3: x = -0.44000000000000017, f(x) = 6.553599999999998\n",
            "Iteration 4: x = -0.9520000000000001, f(x) = 4.194304\n",
            "Iteration 5: x = -1.3616000000000001, f(x) = 2.6843545599999996\n",
            "Iteration 6: x = -1.6892800000000001, f(x) = 1.7179869183999996\n",
            "Iteration 7: x = -1.951424, f(x) = 1.099511627776\n",
            "Iteration 8: x = -2.1611392, f(x) = 0.7036874417766399\n",
            "Iteration 9: x = -2.32891136, f(x) = 0.4503599627370493\n",
            "Iteration 10: x = -2.463129088, f(x) = 0.28823037615171165\n",
            "Iteration 11: x = -2.5705032704, f(x) = 0.1844674407370954\n",
            "Iteration 12: x = -2.6564026163200003, f(x) = 0.11805916207174093\n",
            "Iteration 13: x = -2.725122093056, f(x) = 0.07555786372591429\n",
            "Iteration 14: x = -2.7800976744448, f(x) = 0.04835703278458515\n",
            "Iteration 15: x = -2.82407813955584, f(x) = 0.030948500982134555\n",
            "Iteration 16: x = -2.8592625116446717, f(x) = 0.019807040628566166\n",
            "Iteration 17: x = -2.8874100093157375, f(x) = 0.012676506002282305\n",
            "Iteration 18: x = -2.90992800745259, f(x) = 0.008112963841460692\n",
            "Iteration 19: x = -2.927942405962072, f(x) = 0.005192296858534868\n",
            "Iteration 20: x = -2.9423539247696575, f(x) = 0.0033230699894623056\n",
            "Iteration 21: x = -2.953883139815726, f(x) = 0.002126764793255884\n",
            "Iteration 22: x = -2.9631065118525806, f(x) = 0.0013611294676837786\n",
            "Iteration 23: x = -2.9704852094820646, f(x) = 0.0008711228593176078\n",
            "Iteration 24: x = -2.9763881675856516, f(x) = 0.0005575186299632732\n",
            "Iteration 25: x = -2.981110534068521, f(x) = 0.00035681192317650156\n",
            "Iteration 26: x = -2.984888427254817, f(x) = 0.00022835963083295564\n",
            "Iteration 27: x = -2.9879107418038537, f(x) = 0.00014615016373308945\n",
            "Iteration 28: x = -2.990328593443083, f(x) = 9.353610478917726e-05\n",
            "Iteration 29: x = -2.9922628747544664, f(x) = 5.986310706507345e-05\n",
            "Iteration 30: x = -2.993810299803573, f(x) = 3.83123885216492e-05\n",
            "Iteration 31: x = -2.995048239842858, f(x) = 2.451992865385725e-05\n",
            "Iteration 32: x = -2.9960385918742864, f(x) = 1.5692754338469342e-05\n",
            "Iteration 33: x = -2.9968308734994293, f(x) = 1.0043362776619255e-05\n",
            "Iteration 34: x = -2.9974646987995435, f(x) = 6.427752177036323e-06\n",
            "Iteration 35: x = -2.997971759039635, f(x) = 4.113761393302886e-06\n",
            "Iteration 36: x = -2.998377407231708, f(x) = 2.6328072917135587e-06\n",
            "Iteration 37: x = -2.998701925785366, f(x) = 1.6849966666971388e-06\n",
            "Iteration 38: x = -2.998961540628293, f(x) = 1.0783978666865378e-06\n",
            "Iteration 39: x = -2.9991692325026342, f(x) = 6.901746346793842e-07\n",
            "Iteration 40: x = -2.9993353860021075, f(x) = 4.417117661946878e-07\n",
            "Iteration 41: x = -2.999468308801686, f(x) = 2.826955303647891e-07\n",
            "Iteration 42: x = -2.9995746470413485, f(x) = 1.8092513943361614e-07\n",
            "Iteration 43: x = -2.9996597176330786, f(x) = 1.1579208923763523e-07\n",
            "Iteration 44: x = -2.999727774106463, f(x) = 7.410693711203819e-08\n",
            "Iteration 45: x = -2.99978221928517, f(x) = 4.7428439751781807e-08\n",
            "Iteration 46: x = -2.9998257754281363, f(x) = 3.035420144107846e-08\n",
            "Iteration 47: x = -2.999860620342509, f(x) = 1.9426688922339734e-08\n",
            "Iteration 48: x = -2.999888496274007, f(x) = 1.243308091029743e-08\n",
            "Iteration 49: x = -2.9999107970192056, f(x) = 7.9571717826062e-09\n",
            "Iteration 50: x = -2.9999286376153647, f(x) = 5.092589940842615e-09\n",
            "Iteration 51: x = -2.9999429100922916, f(x) = 3.259257562149415e-09\n",
            "Iteration 52: x = -2.999954328073833, f(x) = 2.0859248397837384e-09\n",
            "Iteration 53: x = -2.9999634624590668, f(x) = 1.3349918974486118e-09\n",
            "Iteration 54: x = -2.9999707699672533, f(x) = 8.543948143723039e-10\n",
            "Iteration 55: x = -2.999976615973803, f(x) = 5.468126811899669e-10\n",
            "Iteration 56: x = -2.9999812927790424, f(x) = 3.499601159582557e-10\n",
            "Iteration 57: x = -2.9999850342232337, f(x) = 2.2397447421860056e-10\n",
            "Iteration 58: x = -2.999988027378587, f(x) = 1.433436634977776e-10\n",
            "Iteration 59: x = -2.9999904219028695, f(x) = 9.173994464198049e-11\n",
            "Iteration 60: x = -2.9999923375222957, f(x) = 5.871356456950638e-11\n",
            "Iteration 61: x = -2.9999938700178364, f(x) = 3.757668132666189e-11\n",
            "Iteration 62: x = -2.999995096014269, f(x) = 2.4049076048192486e-11\n",
            "Iteration 63: x = -2.9999960768114153, f(x) = 1.5391408670843192e-11\n",
            "Iteration 64: x = -2.9999968614491324, f(x) = 9.850501548782124e-12\n",
            "Iteration 65: x = -2.999997489159306, f(x) = 6.3043209907745444e-12\n",
            "Iteration 66: x = -2.9999979913274446, f(x) = 4.034765434809332e-12\n",
            "Iteration 67: x = -2.9999983930619556, f(x) = 2.5822498785634223e-12\n",
            "Iteration 68: x = -2.9999987144495646, f(x) = 1.6526399220522305e-12\n",
            "Iteration 69: x = -2.9999989715596516, f(x) = 1.0576895502961154e-12\n",
            "Iteration 70: x = -2.9999991772477212, f(x) = 6.769213121895138e-13\n",
            "Iteration 71: x = -2.999999341798177, f(x) = 4.3322963956744853e-13\n",
            "Iteration 72: x = -2.9999994734385416, f(x) = 2.7726696951023927e-13\n",
            "Iteration 73: x = -2.9999995787508333, f(x) = 1.7745086041172427e-13\n",
            "Iteration 74: x = -2.9999996630006667, f(x) = 1.1356855066350352e-13\n",
            "Iteration 75: x = -2.9999997304005332, f(x) = 7.268387247253274e-14\n",
            "Iteration 76: x = -2.9999997843204267, f(x) = 4.651767834410857e-14\n",
            "Iteration 77: x = -2.9999998274563415, f(x) = 2.977131407892966e-14\n",
            "Iteration 78: x = -2.9999998619650734, f(x) = 1.9053640961475125e-14\n",
            "Iteration 79: x = -2.9999998895720585, f(x) = 1.2194330254575965e-14\n",
            "Iteration 80: x = -2.999999911657647, f(x) = 7.80437133154311e-15\n",
            "Iteration 81: x = -2.9999999293261177, f(x) = 4.994797639633387e-15\n",
            "Iteration 82: x = -2.999999943460894, f(x) = 3.1966704893653676e-15\n",
            "Iteration 83: x = -2.9999999547687155, f(x) = 2.045869097124455e-15\n",
            "Iteration 84: x = -2.9999999638149726, f(x) = 1.309356209304147e-15\n",
            "Iteration 85: x = -2.9999999710519782, f(x) = 8.379879636702507e-16\n",
            "Iteration 86: x = -2.9999999768415826, f(x) = 5.363122967489605e-16\n",
            "Iteration 87: x = -2.999999981473266, f(x) = 3.432398699193347e-16\n",
            "Iteration 88: x = -2.9999999851786128, f(x) = 2.1967351938118145e-16\n",
            "Iteration 89: x = -2.99999998814289, f(x) = 1.4059105661644777e-16\n",
            "Iteration 90: x = -2.999999990514312, f(x) = 8.997827286453327e-17\n",
            "Iteration 91: x = -2.9999999924114498, f(x) = 5.758609463330129e-17\n",
            "Iteration 92: x = -2.9999999939291597, f(x) = 3.685510164371068e-17\n",
            "Iteration 93: x = -2.9999999951433276, f(x) = 2.358726677741145e-17\n",
            "Iteration 94: x = -2.999999996114662, f(x) = 1.5095850047368678e-17\n",
            "Iteration 95: x = -2.99999999689173, f(x) = 9.661342926036557e-18\n",
            "Iteration 96: x = -2.9999999975133838, f(x) = 6.18326035608692e-18\n",
            "Iteration 97: x = -2.999999998010707, f(x) = 3.957287334634505e-18\n",
            "Iteration 98: x = -2.9999999984085655, f(x) = 2.532663894166083e-18\n",
            "Iteration 99: x = -2.999999998726852, f(x) = 1.6209053445792253e-18\n",
            "Iteration 100: x = -2.999999998981482, f(x) = 1.0373792396055266e-18\n",
            "local minima occurs at x = -2.999999998981482\n"
          ]
        }
      ]
    },
    {
      "cell_type": "code",
      "source": [
        "import seaborn as sns\n",
        "sns.scatterplot(gd)"
      ],
      "metadata": {
        "colab": {
          "base_uri": "https://localhost:8080/",
          "height": 447
        },
        "id": "8hS8GZ0PimKQ",
        "outputId": "cdbd0a21-53e6-4225-f98a-cc8cbcda8070"
      },
      "execution_count": null,
      "outputs": [
        {
          "output_type": "execute_result",
          "data": {
            "text/plain": [
              "<Axes: >"
            ]
          },
          "metadata": {},
          "execution_count": 9
        },
        {
          "output_type": "display_data",
          "data": {
            "text/plain": [
              "<Figure size 640x480 with 1 Axes>"
            ],
            "image/png": "[encoded data removed]"
          },
          "metadata": {}
        }
      ]
    },
    {
      "cell_type": "code",
      "source": [],
      "metadata": {
        "id": "rRqJ0flfi3wu"
      },
      "execution_count": null,
      "outputs": []
    }
  ]
}